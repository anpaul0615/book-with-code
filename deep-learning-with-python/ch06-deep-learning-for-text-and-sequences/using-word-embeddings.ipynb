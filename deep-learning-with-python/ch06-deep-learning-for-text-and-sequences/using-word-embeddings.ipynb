{
 "cells": [
  {
   "cell_type": "markdown",
   "metadata": {},
   "source": [
    "# 단어 임베딩"
   ]
  },
  {
   "cell_type": "code",
   "execution_count": 1,
   "metadata": {},
   "outputs": [
    {
     "name": "stderr",
     "output_type": "stream",
     "text": [
      "Using TensorFlow backend.\n"
     ]
    }
   ],
   "source": [
    "## Embedding 층 생성\n",
    "\n",
    "from keras.layers import Embedding\n",
    "\n",
    "embedding_layer = Embedding(1000, 64)  # 1000개토큰 + 64임베딩차원"
   ]
  },
  {
   "cell_type": "code",
   "execution_count": 2,
   "metadata": {},
   "outputs": [
    {
     "name": "stdout",
     "output_type": "stream",
     "text": [
      "[[ 65  16  38 ...  19 178  32]\n",
      " [ 23   4   2 ...  16 145  95]\n",
      " [  2  13 191 ...   7 129 113]\n",
      " ...\n",
      " [ 11   2   2 ...   4   2   2]\n",
      " [ 92 401 728 ...  12   9  23]\n",
      " [764  40   4 ... 204 131   9]]\n",
      "[[286 170   8 ...  14   6 717]\n",
      " [ 10  10 472 ... 125   4   2]\n",
      " [ 34   2  45 ...   9  57 975]\n",
      " ...\n",
      " [226  20 272 ...  21 846   2]\n",
      " [ 55 117 212 ...   2   7 470]\n",
      " [ 19  14  20 ...  34   2   2]]\n"
     ]
    }
   ],
   "source": [
    "## Embedding 층에 사용할 IMBD 데이터 로드\n",
    "\n",
    "from keras.datasets import imdb\n",
    "from keras import preprocessing\n",
    "\n",
    "max_features = 1000  # 특성으로 사용할 단어수\n",
    "max_len = 20  # 사용할 텍스트의 길이\n",
    "\n",
    "(x_train, y_train), (x_test, y_test) = imdb.load_data(num_words=max_features)  # 정수리스트로 데이터로드\n",
    "\n",
    "x_train = preprocessing.sequence.pad_sequences(x_train, maxlen=max_len)\n",
    "x_test = preprocessing.sequence.pad_sequences(x_test, maxlen=max_len)\n",
    "\n",
    "print(x_train)\n",
    "print(x_test)"
   ]
  },
  {
   "cell_type": "code",
   "execution_count": 3,
   "metadata": {
    "scrolled": false
   },
   "outputs": [
    {
     "name": "stdout",
     "output_type": "stream",
     "text": [
      "WARNING:tensorflow:From /home/anpaul0615/anaconda3/envs/deeplearning-with-keras/lib/python3.6/site-packages/tensorflow/python/framework/op_def_library.py:263: colocate_with (from tensorflow.python.framework.ops) is deprecated and will be removed in a future version.\n",
      "Instructions for updating:\n",
      "Colocations handled automatically by placer.\n",
      "_________________________________________________________________\n",
      "Layer (type)                 Output Shape              Param #   \n",
      "=================================================================\n",
      "embedding_2 (Embedding)      (None, 20, 8)             80000     \n",
      "_________________________________________________________________\n",
      "flatten_1 (Flatten)          (None, 160)               0         \n",
      "_________________________________________________________________\n",
      "dense_1 (Dense)              (None, 1)                 161       \n",
      "=================================================================\n",
      "Total params: 80,161\n",
      "Trainable params: 80,161\n",
      "Non-trainable params: 0\n",
      "_________________________________________________________________\n",
      "WARNING:tensorflow:From /home/anpaul0615/anaconda3/envs/deeplearning-with-keras/lib/python3.6/site-packages/tensorflow/python/ops/math_ops.py:3066: to_int32 (from tensorflow.python.ops.math_ops) is deprecated and will be removed in a future version.\n",
      "Instructions for updating:\n",
      "Use tf.cast instead.\n",
      "Train on 20000 samples, validate on 5000 samples\n",
      "Epoch 1/10\n",
      "20000/20000 [==============================] - 2s 81us/step - loss: 0.6772 - acc: 0.6006 - val_loss: 0.6448 - val_acc: 0.6704\n",
      "Epoch 2/10\n",
      "20000/20000 [==============================] - 1s 68us/step - loss: 0.5830 - acc: 0.7188 - val_loss: 0.5629 - val_acc: 0.7046\n",
      "Epoch 3/10\n",
      "20000/20000 [==============================] - 1s 67us/step - loss: 0.5152 - acc: 0.7464 - val_loss: 0.5362 - val_acc: 0.7208\n",
      "Epoch 4/10\n",
      "20000/20000 [==============================] - 1s 67us/step - loss: 0.4879 - acc: 0.7607 - val_loss: 0.5299 - val_acc: 0.7292\n",
      "Epoch 5/10\n",
      "20000/20000 [==============================] - 1s 68us/step - loss: 0.4731 - acc: 0.7694 - val_loss: 0.5290 - val_acc: 0.7334\n",
      "Epoch 6/10\n",
      "20000/20000 [==============================] - 1s 68us/step - loss: 0.4633 - acc: 0.7773 - val_loss: 0.5317 - val_acc: 0.7344\n",
      "Epoch 7/10\n",
      "20000/20000 [==============================] - 1s 67us/step - loss: 0.4548 - acc: 0.7819 - val_loss: 0.5333 - val_acc: 0.7318\n",
      "Epoch 8/10\n",
      "20000/20000 [==============================] - 1s 68us/step - loss: 0.4471 - acc: 0.7869 - val_loss: 0.5377 - val_acc: 0.7288\n",
      "Epoch 9/10\n",
      "20000/20000 [==============================] - 1s 68us/step - loss: 0.4399 - acc: 0.7924 - val_loss: 0.5422 - val_acc: 0.7276\n",
      "Epoch 10/10\n",
      "20000/20000 [==============================] - 1s 66us/step - loss: 0.4328 - acc: 0.7958 - val_loss: 0.5458 - val_acc: 0.7290\n"
     ]
    }
   ],
   "source": [
    "## IMDB 데이터에 Embedding 층과 분류기 적용\n",
    "\n",
    "from keras.models import Sequential\n",
    "from keras.layers import Flatten, Dense, Embedding\n",
    "\n",
    "model = Sequential()\n",
    "\n",
    "model.add(Embedding(10000, 8, input_length=max_len))  # 입력데이터를 Flatten 층에서 펼치기위해 input_length 를 지정함\n",
    "model.add(Flatten())  # 3D 임베딩 텐서를 (samples, maxlen*8) 크기의 2D 텐서로 펼침\n",
    "model.add(Dense(1, activation='sigmoid'))  # 분류기 추가\n",
    "\n",
    "model.compile(optimizer='rmsprop', loss='binary_crossentropy', metrics=['acc'])\n",
    "\n",
    "model.summary()\n",
    "history = model.fit(x_train, y_train, epochs=10, batch_size=32, validation_split=0.2)"
   ]
  },
  {
   "cell_type": "code",
   "execution_count": 4,
   "metadata": {
    "scrolled": false
   },
   "outputs": [
    {
     "name": "stdout",
     "output_type": "stream",
     "text": [
      "{'val_loss': [0.6448309545516968, 0.5628908987998963, 0.5361583267211915, 0.5299184844970704, 0.5290373926162719, 0.5316559975624084, 0.5333293436050415, 0.5377060159683228, 0.5421561880111694, 0.545794453907013], 'val_acc': [0.6704, 0.7046, 0.7208, 0.7292, 0.7334, 0.7344, 0.7318, 0.7288, 0.7276, 0.729], 'loss': [0.677172270488739, 0.5829987959384918, 0.5152153789043427, 0.4878621250152588, 0.47306839122772215, 0.46327627944946287, 0.4548164222717285, 0.4470846856117249, 0.43988133943080904, 0.4327883995294571], 'acc': [0.60065, 0.71875, 0.7464, 0.76065, 0.7694, 0.77735, 0.78185, 0.7869, 0.7924, 0.79585]}\n"
     ]
    }
   ],
   "source": [
    "print(history.history)"
   ]
  },
  {
   "cell_type": "code",
   "execution_count": 5,
   "metadata": {},
   "outputs": [
    {
     "name": "stdout",
     "output_type": "stream",
     "text": [
      "25000\n",
      "25000\n"
     ]
    }
   ],
   "source": [
    "## IMDB 원본 데이터 전처리\n",
    "\n",
    "import os\n",
    "\n",
    "imdb_dir = './datasets/aclImdb'\n",
    "train_dir = os.path.join(imdb_dir, 'train')\n",
    "\n",
    "labels = []\n",
    "texts = []\n",
    "\n",
    "for label_type in ['neg', 'pos']:\n",
    "    dir_name = os.path.join(train_dir, label_type)\n",
    "    for fname in os.listdir(dir_name):\n",
    "        if fname[-4:] == '.txt':\n",
    "            f = open(os.path.join(dir_name, fname), encoding='utf8')\n",
    "            texts.append(f.read())\n",
    "            f.close()\n",
    "            if label_type == 'neg':\n",
    "                labels.append(0)\n",
    "            else:\n",
    "                labels.append(1)\n",
    "\n",
    "print( len(labels) )\n",
    "print( len(texts) )"
   ]
  },
  {
   "cell_type": "code",
   "execution_count": 6,
   "metadata": {},
   "outputs": [
    {
     "name": "stdout",
     "output_type": "stream",
     "text": [
      "88582 개의 고유한 토큰을 찾았습니다.\n",
      "데이터 텐서의 크기 :  (25000, 100)\n",
      "레이블 텐서의 크기 :  (25000,)\n",
      "[[  11  387   40 ...  387    5  647]\n",
      " [  15   65  552 ...  310   39   21]\n",
      " [  28   26    6 ...    2 1110  136]\n",
      " ...\n",
      " [ 423  103    7 ... 1597   12  122]\n",
      " [   9   10   67 ...  152 1558 5193]\n",
      " [  42  404  139 ...  302    4 2647]]\n",
      "[1 1 1 1 0 0 1 0 1 1 1 1 1 0 0 0 0 0 0 1]\n",
      "[[ 633  717   10 ...  287 4880  342]\n",
      " [   1 1053   66 ...  415    4 4061]\n",
      " [ 900  390    1 ...  355    1  718]\n",
      " ...\n",
      " [  59   27   37 ...   10   25 1044]\n",
      " [   0    0    0 ...  146   11   19]\n",
      " [1751 2090    4 ... 1840  339  155]]\n",
      "[0 0 1 ... 0 0 0]\n"
     ]
    }
   ],
   "source": [
    "## 데이터 토크나이징\n",
    "\n",
    "from keras.preprocessing.text import Tokenizer\n",
    "from keras.preprocessing.sequence import pad_sequences\n",
    "import numpy as np\n",
    "\n",
    "maxlen = 100  # 100개 단어 이후는 버림\n",
    "training_samples = 20  # 훈련샘플 200개\n",
    "validation_samples = 10000  # 검증샘플 1만개\n",
    "max_words = 10000  # 데이터세트에서 최고빈도 단어 1만개\n",
    "\n",
    "tokenizer = Tokenizer(num_words=max_words)\n",
    "tokenizer.fit_on_texts(texts)\n",
    "sequences = tokenizer.texts_to_sequences(texts)\n",
    "\n",
    "word_index = tokenizer.word_index\n",
    "print('%s 개의 고유한 토큰을 찾았습니다.' % len(word_index))\n",
    "\n",
    "data = pad_sequences(sequences, maxlen=maxlen)\n",
    "labels = np.asarray(labels)\n",
    "print('데이터 텐서의 크기 : ', data.shape)\n",
    "print('레이블 텐서의 크기 : ', labels.shape)\n",
    "\n",
    "indices = np.arange(data.shape[0])\n",
    "np.random.shuffle(indices)\n",
    "data = data[indices]\n",
    "labels = labels[indices]\n",
    "\n",
    "x_train = data[:training_samples]\n",
    "y_train = labels[:training_samples]\n",
    "x_val = data[training_samples: training_samples + validation_samples]\n",
    "y_val = labels[training_samples: training_samples + validation_samples]\n",
    "\n",
    "print(x_train)\n",
    "print(y_train)\n",
    "print(x_val)\n",
    "print(y_val)"
   ]
  },
  {
   "cell_type": "code",
   "execution_count": 7,
   "metadata": {},
   "outputs": [
    {
     "name": "stdout",
     "output_type": "stream",
     "text": [
      "400000개의 단어 벡터를 찾았습니다.\n"
     ]
    }
   ],
   "source": [
    "## GloVe 단어 임베딩 파일 파싱\n",
    "\n",
    "glove_dir = './datasets/glove.6B/'\n",
    "\n",
    "embeddings_index = {}\n",
    "\n",
    "f = open(os.path.join(glove_dir, 'glove.6B.100d.txt'), encoding='utf8')  # 사전 계산된 단어 임베딩\n",
    "for line in f:\n",
    "    values = line.split()\n",
    "    word = values[0]\n",
    "    coefs = np.asarray(values[1:], dtype='float32')\n",
    "    embeddings_index[word] = coefs\n",
    "f.close()\n",
    "\n",
    "print('%s개의 단어 벡터를 찾았습니다.' % len(embeddings_index))"
   ]
  },
  {
   "cell_type": "code",
   "execution_count": 8,
   "metadata": {
    "scrolled": false
   },
   "outputs": [
    {
     "name": "stdout",
     "output_type": "stream",
     "text": [
      "[[ 0.          0.          0.         ...  0.          0.\n",
      "   0.        ]\n",
      " [-0.038194   -0.24487001  0.72812003 ... -0.1459      0.82779998\n",
      "   0.27061999]\n",
      " [-0.071953    0.23127     0.023731   ... -0.71894997  0.86894\n",
      "   0.19539   ]\n",
      " ...\n",
      " [ 0.13787    -0.17727    -0.62436002 ...  0.35506001  0.33443999\n",
      "   0.14436001]\n",
      " [-0.88968998  0.55208999 -0.50498998 ... -0.54351002 -0.21874\n",
      "   0.51186001]\n",
      " [-0.17381001 -0.037609    0.068837   ... -0.097167    1.08840001\n",
      "   0.22676   ]]\n"
     ]
    }
   ],
   "source": [
    "## GloVe 단어 임베딩 행렬 준비\n",
    "\n",
    "embedding_dim = 100\n",
    "embedding_matrix = np.zeros((max_words, embedding_dim))\n",
    "for word, i in word_index.items():\n",
    "    if i < max_words:\n",
    "        embedding_vector = embeddings_index.get(word)\n",
    "        if embedding_vector is not None:  # 임베딩 인덱스에 없는 단어는 모두 0\n",
    "            embedding_matrix[i] = embedding_vector\n",
    "\n",
    "print(embedding_matrix)"
   ]
  },
  {
   "cell_type": "code",
   "execution_count": 9,
   "metadata": {},
   "outputs": [
    {
     "name": "stdout",
     "output_type": "stream",
     "text": [
      "_________________________________________________________________\n",
      "Layer (type)                 Output Shape              Param #   \n",
      "=================================================================\n",
      "embedding_3 (Embedding)      (None, 100, 100)          1000000   \n",
      "_________________________________________________________________\n",
      "flatten_2 (Flatten)          (None, 10000)             0         \n",
      "_________________________________________________________________\n",
      "dense_2 (Dense)              (None, 32)                320032    \n",
      "_________________________________________________________________\n",
      "dense_3 (Dense)              (None, 1)                 33        \n",
      "=================================================================\n",
      "Total params: 1,320,065\n",
      "Trainable params: 1,320,065\n",
      "Non-trainable params: 0\n",
      "_________________________________________________________________\n"
     ]
    }
   ],
   "source": [
    "## 모델 정의\n",
    "\n",
    "from keras.models import Sequential\n",
    "from keras.layers import Embedding, Flatten, Dense\n",
    "\n",
    "model = Sequential()\n",
    "\n",
    "model.add(Embedding(max_words, embedding_dim, input_length=maxlen))\n",
    "model.add(Flatten())\n",
    "model.add(Dense(32, activation='relu'))\n",
    "model.add(Dense(1, activation='sigmoid'))\n",
    "\n",
    "model.summary()"
   ]
  },
  {
   "cell_type": "code",
   "execution_count": 10,
   "metadata": {},
   "outputs": [],
   "source": [
    "## 사전 훈련된 단어 임베딩을 Embedding 층에 로드\n",
    "\n",
    "model.layers[0].set_weights([embedding_matrix])  # Embedding 층 가중치에 단어임베딩 적용\n",
    "model.layers[0].trainable = False  # Embedding 층 동결"
   ]
  },
  {
   "cell_type": "code",
   "execution_count": 11,
   "metadata": {},
   "outputs": [
    {
     "name": "stdout",
     "output_type": "stream",
     "text": [
      "Train on 20 samples, validate on 10000 samples\n",
      "Epoch 1/10\n",
      "20/20 [==============================] - 1s 47ms/step - loss: 0.9443 - acc: 0.4000 - val_loss: 4.7991 - val_acc: 0.4932\n",
      "Epoch 2/10\n",
      "20/20 [==============================] - 0s 23ms/step - loss: 3.2233 - acc: 0.5500 - val_loss: 1.1959 - val_acc: 0.5066\n",
      "Epoch 3/10\n",
      "20/20 [==============================] - 0s 24ms/step - loss: 0.3350 - acc: 0.8500 - val_loss: 0.7773 - val_acc: 0.4937\n",
      "Epoch 4/10\n",
      "20/20 [==============================] - 0s 25ms/step - loss: 0.1623 - acc: 0.9000 - val_loss: 0.7176 - val_acc: 0.5034\n",
      "Epoch 5/10\n",
      "20/20 [==============================] - 0s 25ms/step - loss: 0.1238 - acc: 0.9500 - val_loss: 0.7062 - val_acc: 0.5072\n",
      "Epoch 6/10\n",
      "20/20 [==============================] - 0s 24ms/step - loss: 0.0702 - acc: 1.0000 - val_loss: 0.7322 - val_acc: 0.5195\n",
      "Epoch 7/10\n",
      "20/20 [==============================] - 0s 24ms/step - loss: 0.0334 - acc: 1.0000 - val_loss: 0.7428 - val_acc: 0.5198\n",
      "Epoch 8/10\n",
      "20/20 [==============================] - 0s 24ms/step - loss: 0.0243 - acc: 1.0000 - val_loss: 0.7456 - val_acc: 0.5198\n",
      "Epoch 9/10\n",
      "20/20 [==============================] - 0s 24ms/step - loss: 0.0191 - acc: 1.0000 - val_loss: 0.7623 - val_acc: 0.5168\n",
      "Epoch 10/10\n",
      "20/20 [==============================] - 0s 24ms/step - loss: 0.0157 - acc: 1.0000 - val_loss: 0.7519 - val_acc: 0.5188\n"
     ]
    }
   ],
   "source": [
    "## 훈련과 평가\n",
    "\n",
    "model.compile(optimizer='rmsprop', loss='binary_crossentropy', metrics=['acc'])\n",
    "history = model.fit(x_train, y_train, epochs=10, batch_size=32, validation_data=(x_val, y_val))\n",
    "model.save_weights('pre_trained_glove_model.h5')  # 훈련결과 저장"
   ]
  },
  {
   "cell_type": "code",
   "execution_count": 12,
   "metadata": {},
   "outputs": [
    {
     "data": {
      "image/png": "[encoded data removed]",
      "text/plain": [
       "<Figure size 432x288 with 1 Axes>"
      ]
     },
     "metadata": {
      "needs_background": "light"
     },
     "output_type": "display_data"
    },
    {
     "data": {
      "image/png": "[encoded data removed]",
      "text/plain": [
       "<Figure size 432x288 with 1 Axes>"
      ]
     },
     "metadata": {
      "needs_background": "light"
     },
     "output_type": "display_data"
    }
   ],
   "source": [
    "## 훈련 결과 그래프\n",
    "\n",
    "%matplotlib inline\n",
    "import matplotlib.pyplot as plt\n",
    "\n",
    "acc = history.history['acc']\n",
    "val_acc = history.history['val_acc']\n",
    "loss = history.history['loss']\n",
    "val_loss = history.history['val_loss']\n",
    "\n",
    "epochs = range(1, len(acc) + 1)\n",
    "\n",
    "plt.clf()\n",
    "\n",
    "plt.plot(epochs, acc, 'bo', label='Training acc')\n",
    "plt.plot(epochs, val_acc, 'b', label='Validation acc')\n",
    "plt.title('Training and validation acc')\n",
    "plt.legend()\n",
    "\n",
    "plt.figure()\n",
    "\n",
    "plt.plot(epochs, loss, 'bo', label='Training loss')\n",
    "plt.plot(epochs, val_loss, 'b', label='Validation loss')\n",
    "plt.title('Training and validation loss')\n",
    "plt.legend()\n",
    "\n",
    "plt.show()"
   ]
  },
  {
   "cell_type": "code",
   "execution_count": 13,
   "metadata": {
    "scrolled": false
   },
   "outputs": [
    {
     "name": "stdout",
     "output_type": "stream",
     "text": [
      "_________________________________________________________________\n",
      "Layer (type)                 Output Shape              Param #   \n",
      "=================================================================\n",
      "embedding_4 (Embedding)      (None, 100, 100)          1000000   \n",
      "_________________________________________________________________\n",
      "flatten_3 (Flatten)          (None, 10000)             0         \n",
      "_________________________________________________________________\n",
      "dense_4 (Dense)              (None, 32)                320032    \n",
      "_________________________________________________________________\n",
      "dense_5 (Dense)              (None, 1)                 33        \n",
      "=================================================================\n",
      "Total params: 1,320,065\n",
      "Trainable params: 1,320,065\n",
      "Non-trainable params: 0\n",
      "_________________________________________________________________\n",
      "Train on 20 samples, validate on 10000 samples\n",
      "Epoch 1/10\n",
      "20/20 [==============================] - 1s 55ms/step - loss: 0.6954 - acc: 0.3500 - val_loss: 0.6927 - val_acc: 0.5152\n",
      "Epoch 2/10\n",
      "20/20 [==============================] - 0s 23ms/step - loss: 0.4924 - acc: 1.0000 - val_loss: 0.6929 - val_acc: 0.5124\n",
      "Epoch 3/10\n",
      "20/20 [==============================] - 0s 23ms/step - loss: 0.3527 - acc: 1.0000 - val_loss: 0.6930 - val_acc: 0.5090\n",
      "Epoch 4/10\n",
      "20/20 [==============================] - 0s 24ms/step - loss: 0.2507 - acc: 1.0000 - val_loss: 0.6935 - val_acc: 0.5078\n",
      "Epoch 5/10\n",
      "20/20 [==============================] - 0s 24ms/step - loss: 0.1665 - acc: 1.0000 - val_loss: 0.6942 - val_acc: 0.5088\n",
      "Epoch 6/10\n",
      "20/20 [==============================] - 0s 25ms/step - loss: 0.1074 - acc: 1.0000 - val_loss: 0.6951 - val_acc: 0.5073\n",
      "Epoch 7/10\n",
      "20/20 [==============================] - 0s 25ms/step - loss: 0.0712 - acc: 1.0000 - val_loss: 0.6959 - val_acc: 0.5082\n",
      "Epoch 8/10\n",
      "20/20 [==============================] - 0s 25ms/step - loss: 0.0509 - acc: 1.0000 - val_loss: 0.6966 - val_acc: 0.5087\n",
      "Epoch 9/10\n",
      "20/20 [==============================] - 0s 25ms/step - loss: 0.0384 - acc: 1.0000 - val_loss: 0.6973 - val_acc: 0.5085\n",
      "Epoch 10/10\n",
      "20/20 [==============================] - 0s 24ms/step - loss: 0.0300 - acc: 1.0000 - val_loss: 0.6980 - val_acc: 0.5071\n"
     ]
    },
    {
     "data": {
      "image/png": "[encoded data removed]",
      "text/plain": [
       "<Figure size 432x288 with 1 Axes>"
      ]
     },
     "metadata": {
      "needs_background": "light"
     },
     "output_type": "display_data"
    },
    {
     "data": {
      "image/png": "[encoded data removed]",
      "text/plain": [
       "<Figure size 432x288 with 1 Axes>"
      ]
     },
     "metadata": {
      "needs_background": "light"
     },
     "output_type": "display_data"
    }
   ],
   "source": [
    "## 사전훈련된 단어임베딩 없이 같은 모델 훈련\n",
    "\n",
    "from keras.models import Sequential\n",
    "from keras.layers import Embedding, Flatten, Dense\n",
    "\n",
    "model = Sequential()\n",
    "model.add(Embedding(max_words, embedding_dim, input_length=maxlen))\n",
    "model.add(Flatten())\n",
    "model.add(Dense(32, activation='relu'))\n",
    "model.add(Dense(1, activation='sigmoid'))\n",
    "model.summary()\n",
    "\n",
    "model.compile(optimizer='rmsprop', loss='binary_crossentropy', metrics=['acc'])\n",
    "history = model.fit(x_train, y_train, epochs=10, batch_size=32, validation_data=(x_val, y_val))\n",
    "\n",
    "acc = history.history['acc']\n",
    "val_acc = history.history['val_acc']\n",
    "loss = history.history['loss']\n",
    "val_loss = history.history['val_loss']\n",
    "\n",
    "epochs = range(1, len(acc) + 1)\n",
    "\n",
    "plt.clf()\n",
    "\n",
    "plt.plot(epochs, acc, 'bo', label='Training acc')\n",
    "plt.plot(epochs, val_acc, 'b', label='Validation acc')\n",
    "plt.title('Training and validation acc')\n",
    "plt.legend()\n",
    "\n",
    "plt.figure()\n",
    "\n",
    "plt.plot(epochs, loss, 'bo', label='Training loss')\n",
    "plt.plot(epochs, val_loss, 'b', label='Validation loss')\n",
    "plt.title('Training and validation loss')\n",
    "plt.legend()\n",
    "\n",
    "plt.show()"
   ]
  },
  {
   "cell_type": "code",
   "execution_count": 14,
   "metadata": {},
   "outputs": [
    {
     "name": "stdout",
     "output_type": "stream",
     "text": [
      "[[ 300   31   60 ...   32  531    8]\n",
      " [5742   44   87 ...  176  467  155]\n",
      " [1449  140 5948 ...    8    1  174]\n",
      " ...\n",
      " [   4 1021    2 ...   34  314   38]\n",
      " [   1  169  400 ...   28 1156 5894]\n",
      " [   5 4987   43 ...   58  104 3194]]\n",
      "[0 0 0 ... 1 1 1]\n"
     ]
    }
   ],
   "source": [
    "## 테스트 데이터 토큰화\n",
    "\n",
    "test_dir = os.path.join(imdb_dir, 'test')\n",
    "\n",
    "labels = []\n",
    "texts = []\n",
    "\n",
    "for label_type in ['neg','pos']:\n",
    "    dir_name = os.path.join(test_dir, label_type)\n",
    "    for fname in sorted(os.listdir(dir_name)):\n",
    "        if fname[-4:] == '.txt':\n",
    "            f = open(os.path.join(dir_name, fname), encoding='utf8')\n",
    "            texts.append(f.read())\n",
    "            f.close()\n",
    "            if label_type == 'neg':\n",
    "                labels.append(0)\n",
    "            else:\n",
    "                labels.append(1)\n",
    "\n",
    "sequences = tokenizer.texts_to_sequences(texts)\n",
    "x_test = pad_sequences(sequences, maxlen=maxlen)\n",
    "y_test = np.asarray(labels)\n",
    "\n",
    "print(x_test)\n",
    "print(y_test)"
   ]
  },
  {
   "cell_type": "code",
   "execution_count": 15,
   "metadata": {},
   "outputs": [
    {
     "name": "stdout",
     "output_type": "stream",
     "text": [
      "25000/25000 [==============================] - 1s 58us/step\n"
     ]
    },
    {
     "data": {
      "text/plain": [
       "[0.7540054191970825, 0.51356]"
      ]
     },
     "execution_count": 15,
     "metadata": {},
     "output_type": "execute_result"
    }
   ],
   "source": [
    "## 테스트세트에서 모델 평가\n",
    "\n",
    "model.load_weights('pre_trained_glove_model.h5')\n",
    "model.evaluate(x_test, y_test)"
   ]
  }
 ],
 "metadata": {
  "kernelspec": {
   "display_name": "Python 3",
   "language": "python",
   "name": "python3"
  },
  "language_info": {
   "codemirror_mode": {
    "name": "ipython",
    "version": 3
   },
   "file_extension": ".py",
   "mimetype": "text/x-python",
   "name": "python",
   "nbconvert_exporter": "python",
   "pygments_lexer": "ipython3",
   "version": "3.6.8"
  }
 },
 "nbformat": 4,
 "nbformat_minor": 2
}
